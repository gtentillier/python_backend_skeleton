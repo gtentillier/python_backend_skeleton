{
 "cells": [
  {
   "cell_type": "code",
   "execution_count": 1,
   "id": "6acced7b",
   "metadata": {},
   "outputs": [],
   "source": [
    "import os\n",
    "import json\n",
    "# import requests\n",
    "# import numpy as np\n",
    "# import pandas as pd\n",
    "from typing import Optional\n",
    "from utils import path_data, path_project\n",
    "\n",
    "%load_ext autoreload\n",
    "%autoreload 2\n",
    "# %run ./import.ipynb"
   ]
  }
 ],
 "metadata": {
  "kernelspec": {
   "display_name": ".venv (3.13.6)",
   "language": "python",
   "name": "python3"
  },
  "language_info": {
   "codemirror_mode": {
    "name": "ipython",
    "version": 3
   },
   "file_extension": ".py",
   "mimetype": "text/x-python",
   "name": "python",
   "nbconvert_exporter": "python",
   "pygments_lexer": "ipython3",
   "version": "3.13.6"
  }
 },
 "nbformat": 4,
 "nbformat_minor": 5
}
